{
 "cells": [
  {
   "cell_type": "markdown",
   "id": "c6b06f40-c994-45dc-bc9c-d5958b20b3f9",
   "metadata": {},
   "source": [
    "# Before demo"
   ]
  },
  {
   "cell_type": "markdown",
   "id": "1a5e2a28-90e3-42c9-82f2-154e04b08338",
   "metadata": {},
   "source": [
    "- Install `Python 3.10`\n",
    "- Create virtual environment `python -m venv .venv`\n",
    "- Activate virtual env `.venv\\Scripts\\activate` (Windows) or `source .venv/bin/activate` Linux/macOS\n",
    "- Update base packages: `python -m pip install -U pip setuptools wheel`\n",
    "- Add required packages: `python -m pip install -r requirements.txt`\n",
    "- (Optional) Start data proxy: `python .\\hackathon_1\\webserver.py`\n",
    "- run `jupyter lab`"
   ]
  },
  {
   "cell_type": "markdown",
   "id": "23b6a40f-d8f4-4026-9fc1-02e28d3cef8f",
   "metadata": {},
   "source": [
    "# Demo"
   ]
  },
  {
   "cell_type": "markdown",
   "id": "8f968530-5f7f-4d97-9241-536676b33f5e",
   "metadata": {},
   "source": [
    "**Get data from Infrabel's opendata portal**\n",
    "- Go to [https://opendata.infrabel.be](https://opendata.infrabel.be) (+ introduce the portal)\n",
    "- Click on \"*Infrastructure*\"\n",
    "- Search for \"*Energy*\" (left bar)\n",
    "- Click on the dataset \"*Monthly traction energy consumption (distributed)*\"\n",
    "- Introduce the data, click on \"Table\" to show the data\n",
    "- Click on \"*Export*\"\n",
    "- We we use the **CSV** data format (**copy the csv url**)\n",
    "\n",
    "**Create a new jupyter notebook (_analysis.ipynb_)**\n",
    "\n",
    "- Import the libraries"
   ]
  },
  {
   "cell_type": "code",
   "id": "initial_id",
   "metadata": {},
   "source": [
    "import infrabel_demo\n",
    "\n",
    "import pandas as pd  # Fetch and manipulate data\n",
    "import geopandas as gpd # Add geographic capabilities to pandas\n",
    "import pygwalker as pyg  # Quick data profiling  analysis\n",
    "import duckdb  # Manipulate data in SQL\n",
    "import folium # Plot maps\n",
    "import branca # Colors for maps\n",
    "\n",
    "# Prevent warnings when inplace copying\n",
    "pd.options.mode.copy_on_write = True"
   ],
   "outputs": [],
   "execution_count": null
  },
  {
   "cell_type": "markdown",
   "id": "7620f2ba-99f6-4094-84ff-376d2df5f6e5",
   "metadata": {},
   "source": [
    "## 1. Getting energy data"
   ]
  },
  {
   "cell_type": "markdown",
   "id": "41d3ae0a-1370-4eb8-8d86-f9ba825f2ada",
   "metadata": {},
   "source": [
    "Show how to pull data with pandas, and display it"
   ]
  },
  {
   "cell_type": "code",
   "id": "13fa97b832062578",
   "metadata": {},
   "source": [
    "energy = pd.read_csv(\"https://opendata.infrabel.be/api/explore/v2.1/catalog/datasets/maandelijks-tractie-energieverbruik-met-verdeling/exports/csv?lang=en&timezone=Europe%2FBerlin&use_labels=true&delimiter=%3B\", sep=';')"
   ],
   "outputs": [],
   "execution_count": null
  },
  {
   "cell_type": "code",
   "id": "56bb2736ac610f72",
   "metadata": {},
   "source": [
    "energy"
   ],
   "outputs": [],
   "execution_count": null
  },
  {
   "cell_type": "markdown",
   "id": "5b92be18-1d03-4e02-acfb-59c0ac8a6f6c",
   "metadata": {},
   "source": [
    "## 2. Profiling data"
   ]
  },
  {
   "cell_type": "markdown",
   "id": "ec3b2a3e-4fca-4f97-a15f-1d3437b7d5c0",
   "metadata": {},
   "source": [
    "**Profiling data**: Determine the quality of the data (null, gaps, etc), and get an overall look / doing a quick analysis of what it contains.\n",
    "\n",
    "**Missing values**:\n",
    "- Go to \"*Data*\" Tab\n",
    "- See missing values (*null*)\n",
    "- Notice the missing values are for dates in the past\n",
    "- Notice **we'll most likely exclude the nulls, but we need to be sure they are no null elsewhere**\n",
    "\n",
    "**Quick analysis - Energy consumption over time (Passengers)**\n",
    "- Go to \"*Visualization tab*\"\n",
    "- Goal: *Taking a look at energy consumption data over time*\n",
    "- Change \"*Month*\"'s \"*Semantic Type*\" to \"*Temporal*\"\n",
    "- Drag and drop \"*Month*\" to \"*X-Axis*\"\n",
    "- Drag and drop \"*Passengers*\" to \"*Y-Axis*\"\n",
    "- Change \"Layout Mode\" to \"Container\"\n",
    "- **Analysis**: Constent passengers trains over time. No data before 2009.\n",
    "\n",
    "**Refined analysis - Energy consumption over time (Freight)**\n",
    "- Drag and drop \"*Freight*\" to \"*X-Axis*\"\n",
    "- **Analysis**: Freight energy consumption is decreasing over the year. Maybe because we have more efficient trains ? Maybe because we carry less freight ? -> To be investigated (with other Infrabel data)\n",
    "\n",
    "**Refined analysis - Energy consumption over time (High Speed Trains)**\n",
    "- Drag and drop \"*High seed train*\" to \"*X-Axis*\"\n",
    "- **Analysis**: Gap in 2020-2021 (Corona / lockdown), energy consuption is increasing over years. Maybe because we have less efficient trains ? Maybe because we have more TGV passing by Belgium ? -> To be investigated (with other Infrabel data)"
   ]
  },
  {
   "cell_type": "code",
   "id": "ad16b23a27ee88ab",
   "metadata": {},
   "source": [
    "walker = pyg.walk(energy)"
   ],
   "outputs": [],
   "execution_count": null
  },
  {
   "cell_type": "markdown",
   "id": "e03831de-4c2f-4c84-b2e8-ef6acffa5c99",
   "metadata": {},
   "source": [
    "# 3. Cleaning data"
   ]
  },
  {
   "cell_type": "markdown",
   "id": "eb790614-be17-4373-b9d0-95292f3e4219",
   "metadata": {},
   "source": [
    "Show how to clean data (remove *nulls*) in Python (pandas) and in SQL (duckdb).\n",
    "\n",
    "- For those who don't know pandas, better learning duckdb directly\n",
    "  - **SQL is a valuable skill, usable in many situation. Pandas syntax is useless outside Python.**"
   ]
  },
  {
   "cell_type": "code",
   "id": "cb5ec25e-5b13-4271-ab06-dcc7fe5d9586",
   "metadata": {},
   "source": [
    "energy[energy['Passengers'].notnull()]"
   ],
   "outputs": [],
   "execution_count": null
  },
  {
   "cell_type": "code",
   "id": "368f01e3-3290-4650-9d42-8a36711ce984",
   "metadata": {},
   "source": [
    "duckdb.query(\n",
    "    \"\"\"SELECT * FROM energy\n",
    "    WHERE Passengers IS NOT NULL\"\"\"\n",
    ").to_df()"
   ],
   "outputs": [],
   "execution_count": null
  },
  {
   "cell_type": "markdown",
   "id": "d0d074c3-de2f-4213-be80-6faf9409404c",
   "metadata": {},
   "source": [
    "# 3. Plotting maps"
   ]
  },
  {
   "cell_type": "code",
   "id": "3791fa1c-7157-4892-b5cb-b78990d2b683",
   "metadata": {},
   "source": [
    "lines = gpd.read_file(\"https://opendata.infrabel.be/api/explore/v2.1/catalog/datasets/geosporen/exports/geojson?lang=en&timezone=Europe%2FBerlin\")"
   ],
   "outputs": [],
   "execution_count": null
  },
  {
   "cell_type": "code",
   "id": "c29dd421-0679-4fd9-afa9-fdc8a45d0c12",
   "metadata": {},
   "source": [
    "lines"
   ],
   "outputs": [],
   "execution_count": null
  },
  {
   "cell_type": "code",
   "id": "1eb4bc71-4206-4e19-ab06-e564d52533db",
   "metadata": {},
   "source": [
    "lines.plot()"
   ],
   "outputs": [],
   "execution_count": null
  },
  {
   "cell_type": "markdown",
   "id": "32724056-dbfd-4175-8ba2-95d8e073ed85",
   "metadata": {},
   "source": [
    "# Plotting an intervactive map"
   ]
  },
  {
   "cell_type": "markdown",
   "id": "46ffb93c-9d23-423b-b278-e0053900a6ea",
   "metadata": {},
   "source": [
    "1. Plotting folium map\n",
    "2. Transform data\n",
    "3. Replot"
   ]
  },
  {
   "cell_type": "markdown",
   "id": "e73b2c45-8e2e-46e3-9c60-45d246e70289",
   "metadata": {},
   "source": [
    " - `folium.Map()`\n",
    " - `folium.Map(location=[50.425, 4.34])`\n",
    " - `folium.Map(location=[50.425, 4.34], zoom_start=8)`\n",
    " - `folium.Map(location=[50.425, 4.34], zoom_start=8, tiles=\"CartoDB Positron\")`"
   ]
  },
  {
   "cell_type": "code",
   "id": "6f5c60ea-a59f-495e-b01a-ea5355b7a560",
   "metadata": {},
   "source": [
    "folium.Map(location=[50.425, 4.34], tiles=\"CartoDB Positron\", zoom_start=8)"
   ],
   "outputs": [],
   "execution_count": null
  },
  {
   "cell_type": "markdown",
   "id": "c336d292-2543-4155-a835-98c14ebbd451",
   "metadata": {},
   "source": [
    "Remove empty geometries"
   ]
  },
  {
   "cell_type": "code",
   "id": "f9fba95d-5b02-49c5-bb8f-69a66af48f25",
   "metadata": {},
   "source": [
    "lines = lines.dropna(subset=[\"geometry\"])"
   ],
   "outputs": [],
   "execution_count": null
  },
  {
   "cell_type": "raw",
   "id": "f0d72401-e8cb-464f-968d-429885a0b867",
   "metadata": {},
   "source": [
    "conditions = [\n",
    "    lines['trackcode'].isin([\"L 1_1\", \"L 1_2\", \"L 2_1\", \"L 2_2\"]),\n",
    "    lines['trackcode'].isin(list2),\n",
    "    lines['trackcode'].isin(list3)\n",
    "]"
   ]
  },
  {
   "cell_type": "code",
   "id": "58ceb23c-3dcf-479b-b45a-e2cdb4bc309f",
   "metadata": {},
   "source": [
    "lines['trackcode'].unique()"
   ],
   "outputs": [],
   "execution_count": null
  },
  {
   "cell_type": "markdown",
   "id": "d0afae43-ba15-4bd6-ba30-a3923dce741f",
   "metadata": {},
   "source": [
    "Calculate length of each line section"
   ]
  },
  {
   "cell_type": "code",
   "id": "547a5338-e6c7-46b6-9a4c-3dd45c42cb31",
   "metadata": {},
   "source": [
    "# Calculate the length using the Lambert 72 Projection (EPSG 31370)\n",
    "lines['length_km'] = lines['geometry'].to_crs('EPSG:31370').length / 1000"
   ],
   "outputs": [],
   "execution_count": null
  },
  {
   "cell_type": "code",
   "id": "785a719f-c01e-42fe-8afd-d551fe8c8add",
   "metadata": {},
   "source": [
    "# ax = lines.plot(figsize=(15, 10), alpha=0.5, edgecolor='k')\n",
    "# cx.add_basemap(ax, crs=lines.crs, source=cx.providers.CartoDB.Positron)\n",
    "# plt.show()\n",
    "\n",
    "    # folium.Popup(row[\"id\"]).add_to(geojson)"
   ],
   "outputs": [],
   "execution_count": null
  },
  {
   "cell_type": "code",
   "id": "4ddc2690-d237-44ee-aae7-3c4b8855fc73",
   "metadata": {},
   "source": [
    "lines['modifdate'] = lines['modifdate'].astype(str)"
   ],
   "outputs": [],
   "execution_count": null
  },
  {
   "cell_type": "code",
   "id": "48475f0b-ab2e-4b31-b573-bc90ea8568d0",
   "metadata": {},
   "source": [
    "line_map = folium.Map(location=[50.425, 4.34], tiles=\"CartoDB Positron\", zoom_start=8)\n",
    "\n",
    "colormap = branca.colormap.LinearColormap(\n",
    "    colors=['green', 'yellow', 'red'],\n",
    "    vmin=lines['length_km'].min(),\n",
    "    vmax=lines['length_km'].max()\n",
    ")\n",
    "\n",
    "folium.GeoJson(\n",
    "    lines.to_geo_dict(),\n",
    "    style_function=lambda x: {\"color\": colormap(x['properties']['length_km'])}\n",
    ").add_to(line_map)\n",
    "\n",
    "line_map"
   ],
   "outputs": [],
   "execution_count": null
  },
  {
   "cell_type": "code",
   "id": "82972a69-30dc-4c62-8a30-6294667b160a",
   "metadata": {},
   "source": [],
   "outputs": [],
   "execution_count": null
  }
 ],
 "metadata": {
  "kernelspec": {
   "display_name": "Python 3 (ipykernel)",
   "language": "python",
   "name": "python3"
  },
  "language_info": {
   "codemirror_mode": {
    "name": "ipython",
    "version": 3
   },
   "file_extension": ".py",
   "mimetype": "text/x-python",
   "name": "python",
   "nbconvert_exporter": "python",
   "pygments_lexer": "ipython3",
   "version": "3.10.9"
  }
 },
 "nbformat": 4,
 "nbformat_minor": 5
}
